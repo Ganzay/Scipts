{
 "cells": [
  {
   "cell_type": "code",
   "execution_count": 14,
   "id": "3efd4d51-e458-4964-a7cf-97d0c58661d6",
   "metadata": {},
   "outputs": [],
   "source": [
    "import pandas as pd"
   ]
  },
  {
   "cell_type": "code",
   "execution_count": 15,
   "id": "f9f04ef6-951f-4221-87a0-23ea31bd5203",
   "metadata": {},
   "outputs": [],
   "source": [
    "car_names = pd.Series([\"Toyota\", \"Honda\", \"Toyota\", \"BMW\", \"Nissan\", \"Toyota\", \"Honda\", \"Honda\", \"Toyota\", \"Nissan\"])"
   ]
  },
  {
   "cell_type": "code",
   "execution_count": 16,
   "id": "8d71462d-c468-45b9-a98c-881c1b01ded6",
   "metadata": {},
   "outputs": [
    {
     "data": {
      "text/plain": [
       "0    Toyota\n",
       "1     Honda\n",
       "2    Toyota\n",
       "3       BMW\n",
       "4    Nissan\n",
       "5    Toyota\n",
       "6     Honda\n",
       "7     Honda\n",
       "8    Toyota\n",
       "9    Nissan\n",
       "dtype: object"
      ]
     },
     "execution_count": 16,
     "metadata": {},
     "output_type": "execute_result"
    }
   ],
   "source": [
    "car_names"
   ]
  },
  {
   "cell_type": "code",
   "execution_count": 17,
   "id": "99cee12b-62ff-4e35-a650-2038a8e556d9",
   "metadata": {},
   "outputs": [],
   "source": [
    "colours = pd.Series([\"White\", \"Red\", \"Blue\", \"Black\", \"White\", \"Green\", \"Blue\", \"Blue\", \"White\", \"WHite\"])"
   ]
  },
  {
   "cell_type": "code",
   "execution_count": 18,
   "id": "b2e53e7a-d6d4-461a-a92a-4b7594f10414",
   "metadata": {},
   "outputs": [
    {
     "data": {
      "text/plain": [
       "0    White\n",
       "1      Red\n",
       "2     Blue\n",
       "3    Black\n",
       "4    White\n",
       "5    Green\n",
       "6     Blue\n",
       "7     Blue\n",
       "8    White\n",
       "9    WHite\n",
       "dtype: object"
      ]
     },
     "execution_count": 18,
     "metadata": {},
     "output_type": "execute_result"
    }
   ],
   "source": [
    "colours"
   ]
  },
  {
   "cell_type": "code",
   "execution_count": 19,
   "id": "894c6d60-d26d-430b-9426-39b333d5e99b",
   "metadata": {},
   "outputs": [],
   "source": [
    "Odometer_KM = pd.Series([\"200043\", \"97899\", \"43549\", \"12179\", \"223095\", \"103213\", \"50698\", \"64738\", \"71000\", \"42600\"])"
   ]
  },
  {
   "cell_type": "code",
   "execution_count": 20,
   "id": "392ebce3-018f-4b8d-9893-04ee610b38cf",
   "metadata": {},
   "outputs": [
    {
     "data": {
      "text/plain": [
       "0    200043\n",
       "1     97899\n",
       "2     43549\n",
       "3     12179\n",
       "4    223095\n",
       "5    103213\n",
       "6     50698\n",
       "7     64738\n",
       "8     71000\n",
       "9     42600\n",
       "dtype: object"
      ]
     },
     "execution_count": 20,
     "metadata": {},
     "output_type": "execute_result"
    }
   ],
   "source": [
    "Odometer_KM"
   ]
  },
  {
   "cell_type": "code",
   "execution_count": 21,
   "id": "8683aa04-28b5-4663-b794-59e33039d542",
   "metadata": {},
   "outputs": [],
   "source": [
    "Doors = pd.Series([\"4\", \"4\", \"3\", \"5\", \"4\", \"4\", \"4\", \"4\", \"4\", \"4\"])"
   ]
  },
  {
   "cell_type": "code",
   "execution_count": 22,
   "id": "effe50af-2023-4cd1-925e-15464bc8f99a",
   "metadata": {},
   "outputs": [
    {
     "data": {
      "text/plain": [
       "0    4\n",
       "1    4\n",
       "2    3\n",
       "3    5\n",
       "4    4\n",
       "5    4\n",
       "6    4\n",
       "7    4\n",
       "8    4\n",
       "9    4\n",
       "dtype: object"
      ]
     },
     "execution_count": 22,
     "metadata": {},
     "output_type": "execute_result"
    }
   ],
   "source": [
    "Doors"
   ]
  },
  {
   "cell_type": "code",
   "execution_count": 23,
   "id": "1f71fef0-0458-40f5-ba27-ff2aea927183",
   "metadata": {},
   "outputs": [],
   "source": [
    "Price = pd.Series([\"$5,000.00\", \"$6,000.00\", \"$8,000.00\",\"$23,000.00\", \"$4,500.00\", \"$5,000.00\", \"$8,500.00\",\"$8,000.00\", \"$7,250.00\", \"$10,200.00\"])"
   ]
  },
  {
   "cell_type": "code",
   "execution_count": 24,
   "id": "64892a68-6f05-4bac-ba65-fc43ce8ee907",
   "metadata": {},
   "outputs": [
    {
     "data": {
      "text/plain": [
       "0     $5,000.00\n",
       "1     $6,000.00\n",
       "2     $8,000.00\n",
       "3    $23,000.00\n",
       "4     $4,500.00\n",
       "5     $5,000.00\n",
       "6     $8,500.00\n",
       "7     $8,000.00\n",
       "8     $7,250.00\n",
       "9    $10,200.00\n",
       "dtype: object"
      ]
     },
     "execution_count": 24,
     "metadata": {},
     "output_type": "execute_result"
    }
   ],
   "source": [
    "Price"
   ]
  },
  {
   "cell_type": "code",
   "execution_count": 25,
   "id": "16f894ec-55fe-435c-bced-fb7dbfa1e174",
   "metadata": {},
   "outputs": [],
   "source": [
    "new_work = pd.DataFrame({\"car_names\": car_names, \"colours\": colours, \"Odometer_Km\": Odometer_KM, \"Doors\": Doors, \"Price\": Price,})"
   ]
  },
  {
   "cell_type": "code",
   "execution_count": 26,
   "id": "30a7c203-f500-4879-abbf-1aad8ceeb4ef",
   "metadata": {
    "scrolled": true
   },
   "outputs": [
    {
     "data": {
      "text/html": [
       "<div>\n",
       "<style scoped>\n",
       "    .dataframe tbody tr th:only-of-type {\n",
       "        vertical-align: middle;\n",
       "    }\n",
       "\n",
       "    .dataframe tbody tr th {\n",
       "        vertical-align: top;\n",
       "    }\n",
       "\n",
       "    .dataframe thead th {\n",
       "        text-align: right;\n",
       "    }\n",
       "</style>\n",
       "<table border=\"1\" class=\"dataframe\">\n",
       "  <thead>\n",
       "    <tr style=\"text-align: right;\">\n",
       "      <th></th>\n",
       "      <th>car_names</th>\n",
       "      <th>colours</th>\n",
       "      <th>Odometer_Km</th>\n",
       "      <th>Doors</th>\n",
       "      <th>Price</th>\n",
       "    </tr>\n",
       "  </thead>\n",
       "  <tbody>\n",
       "    <tr>\n",
       "      <th>0</th>\n",
       "      <td>Toyota</td>\n",
       "      <td>White</td>\n",
       "      <td>200043</td>\n",
       "      <td>4</td>\n",
       "      <td>$5,000.00</td>\n",
       "    </tr>\n",
       "    <tr>\n",
       "      <th>1</th>\n",
       "      <td>Honda</td>\n",
       "      <td>Red</td>\n",
       "      <td>97899</td>\n",
       "      <td>4</td>\n",
       "      <td>$6,000.00</td>\n",
       "    </tr>\n",
       "    <tr>\n",
       "      <th>2</th>\n",
       "      <td>Toyota</td>\n",
       "      <td>Blue</td>\n",
       "      <td>43549</td>\n",
       "      <td>3</td>\n",
       "      <td>$8,000.00</td>\n",
       "    </tr>\n",
       "    <tr>\n",
       "      <th>3</th>\n",
       "      <td>BMW</td>\n",
       "      <td>Black</td>\n",
       "      <td>12179</td>\n",
       "      <td>5</td>\n",
       "      <td>$23,000.00</td>\n",
       "    </tr>\n",
       "    <tr>\n",
       "      <th>4</th>\n",
       "      <td>Nissan</td>\n",
       "      <td>White</td>\n",
       "      <td>223095</td>\n",
       "      <td>4</td>\n",
       "      <td>$4,500.00</td>\n",
       "    </tr>\n",
       "    <tr>\n",
       "      <th>5</th>\n",
       "      <td>Toyota</td>\n",
       "      <td>Green</td>\n",
       "      <td>103213</td>\n",
       "      <td>4</td>\n",
       "      <td>$5,000.00</td>\n",
       "    </tr>\n",
       "    <tr>\n",
       "      <th>6</th>\n",
       "      <td>Honda</td>\n",
       "      <td>Blue</td>\n",
       "      <td>50698</td>\n",
       "      <td>4</td>\n",
       "      <td>$8,500.00</td>\n",
       "    </tr>\n",
       "    <tr>\n",
       "      <th>7</th>\n",
       "      <td>Honda</td>\n",
       "      <td>Blue</td>\n",
       "      <td>64738</td>\n",
       "      <td>4</td>\n",
       "      <td>$8,000.00</td>\n",
       "    </tr>\n",
       "    <tr>\n",
       "      <th>8</th>\n",
       "      <td>Toyota</td>\n",
       "      <td>White</td>\n",
       "      <td>71000</td>\n",
       "      <td>4</td>\n",
       "      <td>$7,250.00</td>\n",
       "    </tr>\n",
       "    <tr>\n",
       "      <th>9</th>\n",
       "      <td>Nissan</td>\n",
       "      <td>WHite</td>\n",
       "      <td>42600</td>\n",
       "      <td>4</td>\n",
       "      <td>$10,200.00</td>\n",
       "    </tr>\n",
       "  </tbody>\n",
       "</table>\n",
       "</div>"
      ],
      "text/plain": [
       "  car_names colours Odometer_Km Doors       Price\n",
       "0    Toyota   White      200043     4   $5,000.00\n",
       "1     Honda     Red       97899     4   $6,000.00\n",
       "2    Toyota    Blue       43549     3   $8,000.00\n",
       "3       BMW   Black       12179     5  $23,000.00\n",
       "4    Nissan   White      223095     4   $4,500.00\n",
       "5    Toyota   Green      103213     4   $5,000.00\n",
       "6     Honda    Blue       50698     4   $8,500.00\n",
       "7     Honda    Blue       64738     4   $8,000.00\n",
       "8    Toyota   White       71000     4   $7,250.00\n",
       "9    Nissan   WHite       42600     4  $10,200.00"
      ]
     },
     "execution_count": 26,
     "metadata": {},
     "output_type": "execute_result"
    }
   ],
   "source": [
    "new_work"
   ]
  },
  {
   "cell_type": "code",
   "execution_count": 27,
   "id": "5e508192-e576-4ad0-b1c7-e6189415af89",
   "metadata": {},
   "outputs": [],
   "source": [
    "new_work.to_csv(\"new_work.csv\")"
   ]
  },
  {
   "cell_type": "code",
   "execution_count": 29,
   "id": "f8bf1f2d-65e6-4a62-b34a-e1fd333972f8",
   "metadata": {},
   "outputs": [],
   "source": [
    "new_work = pd.read_csv(\"new_work.csv\")"
   ]
  },
  {
   "cell_type": "code",
   "execution_count": 30,
   "id": "76b3462c-169b-4529-bcd0-b0deb6936fef",
   "metadata": {},
   "outputs": [
    {
     "data": {
      "text/html": [
       "<div>\n",
       "<style scoped>\n",
       "    .dataframe tbody tr th:only-of-type {\n",
       "        vertical-align: middle;\n",
       "    }\n",
       "\n",
       "    .dataframe tbody tr th {\n",
       "        vertical-align: top;\n",
       "    }\n",
       "\n",
       "    .dataframe thead th {\n",
       "        text-align: right;\n",
       "    }\n",
       "</style>\n",
       "<table border=\"1\" class=\"dataframe\">\n",
       "  <thead>\n",
       "    <tr style=\"text-align: right;\">\n",
       "      <th></th>\n",
       "      <th>Unnamed: 0</th>\n",
       "      <th>car_names</th>\n",
       "      <th>colours</th>\n",
       "      <th>Odometer_Km</th>\n",
       "      <th>Doors</th>\n",
       "      <th>Price</th>\n",
       "    </tr>\n",
       "  </thead>\n",
       "  <tbody>\n",
       "    <tr>\n",
       "      <th>0</th>\n",
       "      <td>0</td>\n",
       "      <td>Toyota</td>\n",
       "      <td>White</td>\n",
       "      <td>200043</td>\n",
       "      <td>4</td>\n",
       "      <td>$5,000.00</td>\n",
       "    </tr>\n",
       "    <tr>\n",
       "      <th>1</th>\n",
       "      <td>1</td>\n",
       "      <td>Honda</td>\n",
       "      <td>Red</td>\n",
       "      <td>97899</td>\n",
       "      <td>4</td>\n",
       "      <td>$6,000.00</td>\n",
       "    </tr>\n",
       "    <tr>\n",
       "      <th>2</th>\n",
       "      <td>2</td>\n",
       "      <td>Toyota</td>\n",
       "      <td>Blue</td>\n",
       "      <td>43549</td>\n",
       "      <td>3</td>\n",
       "      <td>$8,000.00</td>\n",
       "    </tr>\n",
       "    <tr>\n",
       "      <th>3</th>\n",
       "      <td>3</td>\n",
       "      <td>BMW</td>\n",
       "      <td>Black</td>\n",
       "      <td>12179</td>\n",
       "      <td>5</td>\n",
       "      <td>$23,000.00</td>\n",
       "    </tr>\n",
       "    <tr>\n",
       "      <th>4</th>\n",
       "      <td>4</td>\n",
       "      <td>Nissan</td>\n",
       "      <td>White</td>\n",
       "      <td>223095</td>\n",
       "      <td>4</td>\n",
       "      <td>$4,500.00</td>\n",
       "    </tr>\n",
       "    <tr>\n",
       "      <th>5</th>\n",
       "      <td>5</td>\n",
       "      <td>Toyota</td>\n",
       "      <td>Green</td>\n",
       "      <td>103213</td>\n",
       "      <td>4</td>\n",
       "      <td>$5,000.00</td>\n",
       "    </tr>\n",
       "    <tr>\n",
       "      <th>6</th>\n",
       "      <td>6</td>\n",
       "      <td>Honda</td>\n",
       "      <td>Blue</td>\n",
       "      <td>50698</td>\n",
       "      <td>4</td>\n",
       "      <td>$8,500.00</td>\n",
       "    </tr>\n",
       "    <tr>\n",
       "      <th>7</th>\n",
       "      <td>7</td>\n",
       "      <td>Honda</td>\n",
       "      <td>Blue</td>\n",
       "      <td>64738</td>\n",
       "      <td>4</td>\n",
       "      <td>$8,000.00</td>\n",
       "    </tr>\n",
       "    <tr>\n",
       "      <th>8</th>\n",
       "      <td>8</td>\n",
       "      <td>Toyota</td>\n",
       "      <td>White</td>\n",
       "      <td>71000</td>\n",
       "      <td>4</td>\n",
       "      <td>$7,250.00</td>\n",
       "    </tr>\n",
       "    <tr>\n",
       "      <th>9</th>\n",
       "      <td>9</td>\n",
       "      <td>Nissan</td>\n",
       "      <td>WHite</td>\n",
       "      <td>42600</td>\n",
       "      <td>4</td>\n",
       "      <td>$10,200.00</td>\n",
       "    </tr>\n",
       "  </tbody>\n",
       "</table>\n",
       "</div>"
      ],
      "text/plain": [
       "   Unnamed: 0 car_names colours  Odometer_Km  Doors       Price\n",
       "0           0    Toyota   White       200043      4   $5,000.00\n",
       "1           1     Honda     Red        97899      4   $6,000.00\n",
       "2           2    Toyota    Blue        43549      3   $8,000.00\n",
       "3           3       BMW   Black        12179      5  $23,000.00\n",
       "4           4    Nissan   White       223095      4   $4,500.00\n",
       "5           5    Toyota   Green       103213      4   $5,000.00\n",
       "6           6     Honda    Blue        50698      4   $8,500.00\n",
       "7           7     Honda    Blue        64738      4   $8,000.00\n",
       "8           8    Toyota   White        71000      4   $7,250.00\n",
       "9           9    Nissan   WHite        42600      4  $10,200.00"
      ]
     },
     "execution_count": 30,
     "metadata": {},
     "output_type": "execute_result"
    }
   ],
   "source": [
    "new_work"
   ]
  },
  {
   "cell_type": "code",
   "execution_count": 33,
   "id": "a2e1dfc0-999c-451f-a1e4-3223e48d16ec",
   "metadata": {},
   "outputs": [
    {
     "data": {
      "text/plain": [
       "'$5,000.00$6,000.00$8,000.00$23,000.00$4,500.00$5,000.00$8,500.00$8,000.00$7,250.00$10,200.00'"
      ]
     },
     "execution_count": 33,
     "metadata": {},
     "output_type": "execute_result"
    }
   ],
   "source": [
    "new_work[\"Price\"].sum()"
   ]
  },
  {
   "cell_type": "code",
   "execution_count": 34,
   "id": "d94f3b1d-62c6-478b-b520-dbfdb60031c6",
   "metadata": {},
   "outputs": [
    {
     "data": {
      "text/plain": [
       "0     $5,000.00\n",
       "1     $6,000.00\n",
       "2     $8,000.00\n",
       "3    $23,000.00\n",
       "4     $4,500.00\n",
       "5     $5,000.00\n",
       "6     $8,500.00\n",
       "7     $8,000.00\n",
       "8     $7,250.00\n",
       "9    $10,200.00\n",
       "Name: Price, dtype: object"
      ]
     },
     "execution_count": 34,
     "metadata": {},
     "output_type": "execute_result"
    }
   ],
   "source": [
    "new_work.loc[:, \"Price\"]"
   ]
  },
  {
   "cell_type": "code",
   "execution_count": 37,
   "id": "096b7fae-187c-4dbf-80b0-5b9d986c708e",
   "metadata": {},
   "outputs": [],
   "source": [
    "new_work['Price'] = (\n",
    "    new_work['Price']\n",
    "    .astype(str)  # Convert all values to strings\n",
    "    .str.replace(r'[^\\d\\.]', '', regex=True)  # Remove everything except digits and decimal points\n",
    "    .astype(float)  # Convert to floats\n",
    ")"
   ]
  },
  {
   "cell_type": "code",
   "execution_count": 38,
   "id": "ffe55bea-82fe-45ea-b969-62c2d3c39923",
   "metadata": {},
   "outputs": [
    {
     "data": {
      "text/plain": [
       "0     5000.0\n",
       "1     6000.0\n",
       "2     8000.0\n",
       "3    23000.0\n",
       "4     4500.0\n",
       "5     5000.0\n",
       "6     8500.0\n",
       "7     8000.0\n",
       "8     7250.0\n",
       "9    10200.0\n",
       "Name: Price, dtype: float64"
      ]
     },
     "execution_count": 38,
     "metadata": {},
     "output_type": "execute_result"
    }
   ],
   "source": [
    "new_work['Price']"
   ]
  },
  {
   "cell_type": "code",
   "execution_count": null,
   "id": "3cd4fc91-648e-40ca-9803-baaebe0597fc",
   "metadata": {},
   "outputs": [],
   "source": []
  }
 ],
 "metadata": {
  "kernelspec": {
   "display_name": "Python 3 (ipykernel)",
   "language": "python",
   "name": "python3"
  },
  "language_info": {
   "codemirror_mode": {
    "name": "ipython",
    "version": 3
   },
   "file_extension": ".py",
   "mimetype": "text/x-python",
   "name": "python",
   "nbconvert_exporter": "python",
   "pygments_lexer": "ipython3",
   "version": "3.12.7"
  }
 },
 "nbformat": 4,
 "nbformat_minor": 5
}
